{
 "cells": [
  {
   "cell_type": "markdown",
   "metadata": {},
   "source": [
    "## Day 6\n",
    "\n",
    "[--- Day 6: Custom Customs ---](https://adventofcode.com/2020/day/6)\n",
    "\n",
    "As your flight approaches the regional airport where you'll switch to a much larger plane, customs declaration forms are distributed to the passengers.\n",
    "\n",
    "The form asks a series of 26 yes-or-no questions marked a through z. All you need to do is identify the questions for which anyone in your group answers \"yes\". Since your group is just you, this doesn't take very long.\n",
    "\n",
    "However, the person sitting next to you seems to be experiencing a language barrier and asks if you can help. For each of the people in their group, you write down the questions for which they answer \"yes\", one per line. For example:\n",
    "\n",
    "    abcx\n",
    "    abcy\n",
    "    abcz\n",
    "    \n",
    "In this group, there are `6` questions to which anyone answered \"yes\": `a`, `b`, `c`, `x`, `y`, and `z`. (Duplicate answers to the same question don't count extra; each question counts at most once.)\n",
    "\n",
    "Another group asks for your help, then another, and eventually you've collected answers from every group on the plane (your puzzle input). Each group's answers are separated by a blank line, and within each group, each person's answers are on a single line. For example:\n",
    "\n",
    "    abc\n",
    "\n",
    "    a\n",
    "    b\n",
    "    c\n",
    "\n",
    "    ab\n",
    "    ac\n",
    "\n",
    "    a\n",
    "    a\n",
    "    a\n",
    "    a\n",
    "\n",
    "    b\n",
    "    \n",
    "This list represents answers from five groups:\n",
    "\n",
    "- The first group contains one person who answered \"yes\" to `3` questions: `a`, `b`, and `c`.\n",
    "- The second group contains three people; combined, they answered \"yes\" to `3` questions: `a`, `b`, and `c`.\n",
    "- The third group contains two people; combined, they answered \"yes\" to `3` questions: `a`, `b`, and `c`.\n",
    "- The fourth group contains four people; combined, they answered \"yes\" to only `1` question, `a`.\n",
    "- The last group contains one person who answered \"yes\" to only `1` question, `b`.\n",
    "- In this example, the sum of these counts is `3 + 3 + 3 + 1 + 1 = 11`.\n",
    "\n",
    "For each group, count the number of questions to which anyone answered \"yes\". What is the sum of those counts?\n",
    "\n",
    "Your puzzle answer was `6809`.\n",
    "\n",
    "`--- Part Two ---`\n",
    "\n",
    "As you finish the last group's customs declaration, you notice that you misread one word in the instructions:\n",
    "\n",
    "You don't need to identify the questions to which anyone answered \"yes\"; you need to identify the questions to which everyone answered \"yes\"!\n",
    "\n",
    "Using the same example as above:\n",
    "\n",
    "    abc\n",
    "\n",
    "    a\n",
    "    b\n",
    "    c\n",
    "\n",
    "    ab\n",
    "    ac\n",
    "\n",
    "    a\n",
    "    a\n",
    "    a\n",
    "    a\n",
    "\n",
    "    b\n",
    "    \n",
    "This list represents answers from five groups:\n",
    "\n",
    "- In the first group, everyone (all 1 person) answered \"yes\" to `3` questions: `a`, `b`, and `c`.\n",
    "- In the second group, there is no question to which everyone answered \"yes\".\n",
    "- In the third group, everyone answered yes to only `1` question, `a`. Since some people did not answer \"yes\" to `b` or `c`, they don't count.\n",
    "- In the fourth group, everyone answered yes to only `1` question, `a`.\n",
    "- In the fifth group, everyone (all 1 person) answered \"yes\" to `1` question, `b`.\n",
    "- In this example, the sum of these counts is `3 + 0 + 1 + 1 + 1 = 6`.\n",
    "\n",
    "For each group, count the number of questions to which everyone answered \"yes\". What is the sum of those counts?\n",
    "\n",
    "Your puzzle answer was `3394`."
   ]
  },
  {
   "cell_type": "code",
   "execution_count": 1,
   "metadata": {},
   "outputs": [],
   "source": [
    "def day6():\n",
    "    data = open(\"./assets/advent2020_d6.txt\").read().split('\\n\\n')\n",
    "    part1 = sum([len(set(l.replace('\\n',''))) for l in data])\n",
    "    \n",
    "    # Part 2\n",
    "    group_counts = []\n",
    "    for group in [l.split() for l in data]:\n",
    "        isec = set(group[0])\n",
    "        i = 1\n",
    "        while True:\n",
    "            try:\n",
    "                isec = isec & set(group[i])\n",
    "                if isec == set():\n",
    "                    break\n",
    "            except:\n",
    "                break\n",
    "            i+=1\n",
    "        group_counts.append(len(isec))\n",
    "    part2 = sum(group_counts)\n",
    "    \n",
    "    return part1, part2"
   ]
  },
  {
   "cell_type": "code",
   "execution_count": 2,
   "metadata": {},
   "outputs": [
    {
     "name": "stdout",
     "output_type": "stream",
     "text": [
      "Part 1 Answer = 6809\n",
      "Part 2 Answer = 3394\n"
     ]
    }
   ],
   "source": [
    "# Display Results\n",
    "part1,part2 = day6()\n",
    "print(f'Part 1 Answer = {part1}')\n",
    "print(f'Part 2 Answer = {part2}')"
   ]
  },
  {
   "cell_type": "code",
   "execution_count": 3,
   "metadata": {},
   "outputs": [
    {
     "name": "stdout",
     "output_type": "stream",
     "text": [
      "2.03 ms ± 6.68 µs per loop (mean ± std. dev. of 7 runs, 100 loops each)\n"
     ]
    }
   ],
   "source": [
    "# Speed Test\n",
    "%timeit day6()"
   ]
  },
  {
   "cell_type": "code",
   "execution_count": 4,
   "metadata": {},
   "outputs": [
    {
     "name": "stdout",
     "output_type": "stream",
     "text": [
      "Part 1 Answer = 6809\n",
      "Part 2 Answer = 3394\n",
      "1.94 ms ± 24.4 µs per loop (mean ± std. dev. of 7 runs, 1000 loops each)\n"
     ]
    }
   ],
   "source": [
    "# Using a full-alphabet set idea from classmate Rodrigo Erices, I was able to get part2 into 1 line\n",
    "def day6_line():\n",
    "    data = open(\"./assets/advent2020_d6.txt\").read().split('\\n\\n')\n",
    "    part1 = sum([len(set(l.replace('\\n',''))) for l in data])\n",
    "    #part2 = sum(map(lambda y: len(set('abcdefghijklmnopqrstuvwxyz').intersection(*x.split())), [x for x in data]))\n",
    "    part2 = sum([len(set('abcdefghijklmnopqrstuvwxyz').intersection(*x.split())) for x in data])\n",
    "    return part1,part2\n",
    "part1,part2 = day6()\n",
    "print(f'Part 1 Answer = {part1}')\n",
    "print(f'Part 2 Answer = {part2}')\n",
    "# Speed Test\n",
    "%timeit day6()"
   ]
  }
 ],
 "metadata": {
  "kernelspec": {
   "display_name": "Python 3",
   "language": "python",
   "name": "python3"
  },
  "language_info": {
   "codemirror_mode": {
    "name": "ipython",
    "version": 3
   },
   "file_extension": ".py",
   "mimetype": "text/x-python",
   "name": "python",
   "nbconvert_exporter": "python",
   "pygments_lexer": "ipython3",
   "version": "3.8.5"
  }
 },
 "nbformat": 4,
 "nbformat_minor": 2
}
