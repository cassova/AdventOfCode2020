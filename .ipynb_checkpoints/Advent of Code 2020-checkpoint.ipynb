{
 "cells": [
  {
   "cell_type": "markdown",
   "metadata": {},
   "source": [
    "# Advent of Code 2020\n",
    "https://adventofcode.com/2020\n",
    "\n",
    "Advent of Code is an Advent calendar of small programming puzzles for a variety of skill sets and skill levels that can be solved in any programming language you like. People use them as a speed contest, interview prep, company training, university coursework, practice problems, or to challenge each other.\n",
    "\n",
    "For more details about each puzzle, please check the [README.md](./README.md) file.\n",
    "\n",
    "Solutions by Nicholas Miller"
   ]
  },
  {
   "cell_type": "code",
   "execution_count": 1,
   "metadata": {},
   "outputs": [
    {
     "name": "stdout",
     "output_type": "stream",
     "text": [
      "x = 319, y = 1701, product = 542619\n",
      "x = 43, y = 527, z = 1450, product = 32858450\n"
     ]
    }
   ],
   "source": [
    "# Day 1\n",
    "\n",
    "day1_input = [1899, 1358, 1824, 1541, 1801, 1950, 1441, 1848, 1259, 1715, 1222, 1097, 1127, 1531, 1330, 1841, 1662, 1075,\n",
    "              1631, 1844, 1209, 1940, 2006, 1085, 1615, 1132, 1345, 1736, 1885, 1919, 1995, 1893, 1464, 1701, 1373, 1390,\n",
    "              1717, 1238, 1707, 1088, 1566, 1971, 1804, 1630, 1920, 1445, 1948, 1123, 1917, 1944, 1448, 1965, 1118, 1986,\n",
    "              1498, 1847, 1730, 1418, 1771, 1352, 1207, 1276, 1716, 1502, 1922, 1473, 1528, 1038, 1228, 1983, 1746, 1695,\n",
    "              1698, 1910, 1283, 1145, 1967, 1304, 1651, 1898, 1450, 1042, 1051, 1619, 1505, 1643, 1136, 1517, 1907, 1354,\n",
    "              1960, 1733, 1769, 1942, 43, 1743, 1981, 1711, 1141, 1169, 1239, 1032, 1148, 1045, 1768, 1173, 1389, 2007,\n",
    "              1614, 1028, 1729, 1083, 1165, 1461, 1850, 1913, 1958, 1121, 1613, 1341, 1055, 1510, 1054, 1064, 1875, 1429,\n",
    "              1799, 1570, 1293, 1702, 1313, 1576, 1050, 1340, 1117, 1342, 1914, 1773, 1281, 1176, 1371, 1520, 1131, 1438,\n",
    "              1741, 1583, 1840, 1412, 1792, 1656, 1628, 1089, 1124, 1291, 1476, 1367, 1467, 1529, 1925, 1555, 1518, 1496,\n",
    "              1745, 1533, 1557, 1861, 1091, 1364, 1894, 1760, 1622, 1149, 1776, 1547, 1329, 1988, 1697, 989, 1604, 1296,\n",
    "              319, 1459, 1860, 1916, 1838, 527, 1370, 1881, 1213, 2003, 1223, 1095, 1560, 1784, 1157, 1573, 1023, 1758,\n",
    "              1857, 1723]\n",
    "\n",
    "look_for = [(x,2020 - x) for x in sorted(day1_input)[:4]]\n",
    "for x,y in look_for:\n",
    "    if y in day1_input:\n",
    "        print(f'x = {x}, y = {y}, product = {x*y}')\n",
    "        break\n",
    "        \n",
    "# Part 2\n",
    "\n",
    "import itertools\n",
    "\n",
    "lim = sorted(day1_input)[:4]\n",
    "cand = [x for x in itertools.combinations(lim,2)]\n",
    "look_for = [(x,y,(2020-x-y)) for x,y in cand]\n",
    "\n",
    "for x,y,z in look_for:\n",
    "    if z in day1_input:\n",
    "        print(f'x = {x}, y = {y}, z = {z}, product = {x*y*z}')\n",
    "        break"
   ]
  },
  {
   "cell_type": "code",
   "execution_count": 2,
   "metadata": {},
   "outputs": [
    {
     "name": "stdout",
     "output_type": "stream",
     "text": [
      "460\n",
      "251\n"
     ]
    }
   ],
   "source": [
    "# Day 2\n",
    "\n",
    "with open(\"./assets/advent2020_d2.txt\") as f:\n",
    "    data = [x.split() for x in f.readlines()]\n",
    "\n",
    "correct = 0\n",
    "for rule, ch, pwd in data:\n",
    "    [rule_min,rule_max] = [int(r) for r in rule.split('-')]\n",
    "    ch = ch[0]\n",
    "    count = pwd.count(ch)\n",
    "    if count >= rule_min and count <= rule_max:\n",
    "        correct += 1\n",
    "print(correct)\n",
    "\n",
    "# Part 2\n",
    "\n",
    "correct = 0\n",
    "for rule, ch, pwd in data:\n",
    "    [pos1,pos2] = [int(r)-1 for r in rule.split('-')]\n",
    "    ch = ch[0]\n",
    "    if (pwd[pos1] == ch) ^ (pwd[pos2] == ch):\n",
    "        correct += 1\n",
    "        \n",
    "print(correct)"
   ]
  },
  {
   "cell_type": "code",
   "execution_count": 3,
   "metadata": {},
   "outputs": [
    {
     "name": "stdout",
     "output_type": "stream",
     "text": [
      "195\n",
      "3772314000\n"
     ]
    }
   ],
   "source": [
    "# Day 3\n",
    "\n",
    "data = open (\"./assets/advent2020_d3.txt\").readlines()\n",
    "hgt,wid = len(data),len(data[0])-1\n",
    "my_map = [data[x][(x*3)%wid] for x in range(hgt)]\n",
    "print(my_map.count('#'))\n",
    "\n",
    "# Part 2\n",
    "\n",
    "slope = [(1,1),(3,1),(5,1),(7,1),(1,2)] # (r)ight, (d)own\n",
    "val = 1\n",
    "for (r,d) in slope:\n",
    "    my_map = [data[x*d][(x*r)%wid] for x in range(round(hgt/d))]\n",
    "    val *= my_map.count('#')\n",
    "print(val)"
   ]
  }
 ],
 "metadata": {
  "kernelspec": {
   "display_name": "Python 3",
   "language": "python",
   "name": "python3"
  },
  "language_info": {
   "codemirror_mode": {
    "name": "ipython",
    "version": 3
   },
   "file_extension": ".py",
   "mimetype": "text/x-python",
   "name": "python",
   "nbconvert_exporter": "python",
   "pygments_lexer": "ipython3",
   "version": "3.7.4"
  }
 },
 "nbformat": 4,
 "nbformat_minor": 4
}
