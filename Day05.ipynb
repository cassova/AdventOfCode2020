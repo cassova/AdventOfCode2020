{
 "cells": [
  {
   "cell_type": "code",
   "execution_count": 10,
   "metadata": {},
   "outputs": [
    {
     "data": {
      "text/plain": [
       "5"
      ]
     },
     "execution_count": 10,
     "metadata": {},
     "output_type": "execute_result"
    }
   ],
   "source": [
    "# seat = 'FBFBBFFRLR'\n",
    "# int(seat[:7].replace('F','0').replace('B','1'),2)\n",
    "# int(seat[-3:].replace('L','0').replace('R','1'),2)"
   ]
  },
  {
   "cell_type": "code",
   "execution_count": 62,
   "metadata": {},
   "outputs": [],
   "source": [
    "def day5():\n",
    "    data = open(\"./assets/advent2020_d5.txt\").readlines()\n",
    "    seat_by_row = sorted(data, reverse=False)\n",
    "\n",
    "    last_row = seat_by_row[0][:7]\n",
    "    col = 0\n",
    "    for seat in seat_by_row:\n",
    "        if seat[:7] != last_row:\n",
    "            break\n",
    "        new_col = int(seat[-4:-1].replace('L','0').replace('R','1'),2)\n",
    "        if new_col > col:\n",
    "            col = new_col\n",
    "    row = int(last_row.replace('F','0').replace('B','1'),2)\n",
    "\n",
    "    part1 =  row*8+col\n",
    "\n",
    "    count = 0\n",
    "    my_row = \"\"\n",
    "    i = 0\n",
    "    while True:\n",
    "        if seat_by_row[i][:7] == last_row:\n",
    "            i+=1\n",
    "        elif seat_by_row[i][:7] == seat_by_row[i+7][:7]:\n",
    "            i+=8\n",
    "        else:\n",
    "            my_row = seat_by_row[i][:7]\n",
    "            row_id = int(my_row.replace('F','0').replace('B','1'),2)\n",
    "            my_col = 0\n",
    "            for j in range(8):\n",
    "                col = int(seat_by_row[i+j][-4:-1].replace('L','0').replace('R','1'),2)\n",
    "                if col > j:\n",
    "                    my_col = j\n",
    "                    break\n",
    "            break\n",
    "    part2 = row_id*8 +my_col\n",
    "    \n",
    "    return part1, part2"
   ]
  },
  {
   "cell_type": "code",
   "execution_count": 63,
   "metadata": {},
   "outputs": [
    {
     "name": "stdout",
     "output_type": "stream",
     "text": [
      "874\n",
      "594\n"
     ]
    }
   ],
   "source": [
    "part1,part2 = day5()\n",
    "print(part1)\n",
    "print(part2)"
   ]
  },
  {
   "cell_type": "code",
   "execution_count": 65,
   "metadata": {},
   "outputs": [
    {
     "name": "stdout",
     "output_type": "stream",
     "text": [
      "621 µs ± 19 µs per loop (mean ± std. dev. of 7 runs, 1000 loops each)\n"
     ]
    }
   ],
   "source": [
    "%timeit day5()"
   ]
  }
 ],
 "metadata": {
  "kernelspec": {
   "display_name": "Python 3",
   "language": "python",
   "name": "python3"
  },
  "language_info": {
   "codemirror_mode": {
    "name": "ipython",
    "version": 3
   },
   "file_extension": ".py",
   "mimetype": "text/x-python",
   "name": "python",
   "nbconvert_exporter": "python",
   "pygments_lexer": "ipython3",
   "version": "3.7.4"
  }
 },
 "nbformat": 4,
 "nbformat_minor": 2
}
