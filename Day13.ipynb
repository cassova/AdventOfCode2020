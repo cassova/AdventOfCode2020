{
 "cells": [
  {
   "cell_type": "markdown",
   "metadata": {},
   "source": [
    "--- Day 13: Shuttle Search ---\n",
    "Your ferry can make it safely to a nearby port, but it won't get much further. When you call to book another ship, you discover that no ships embark from that port to your vacation island. You'll need to get from the port to the nearest airport.\n",
    "\n",
    "Fortunately, a shuttle bus service is available to bring you from the sea port to the airport! Each bus has an ID number that also indicates how often the bus leaves for the airport.\n",
    "\n",
    "Bus schedules are defined based on a timestamp that measures the number of minutes since some fixed reference point in the past. At timestamp 0, every bus simultaneously departed from the sea port. After that, each bus travels to the airport, then various other locations, and finally returns to the sea port to repeat its journey forever.\n",
    "\n",
    "The time this loop takes a particular bus is also its ID number: the bus with ID 5 departs from the sea port at timestamps 0, 5, 10, 15, and so on. The bus with ID 11 departs at 0, 11, 22, 33, and so on. If you are there when the bus departs, you can ride that bus to the airport!\n",
    "\n",
    "Your notes (your puzzle input) consist of two lines. The first line is your estimate of the earliest timestamp you could depart on a bus. The second line lists the bus IDs that are in service according to the shuttle company; entries that show x must be out of service, so you decide to ignore them.\n",
    "\n",
    "To save time once you arrive, your goal is to figure out the earliest bus you can take to the airport. (There will be exactly one such bus.)\n",
    "\n",
    "For example, suppose you have the following notes:\n",
    "\n",
    "    939\n",
    "    7,13,x,x,59,x,31,19\n",
    "Here, the earliest timestamp you could depart is 939, and the bus IDs in service are 7, 13, 59, 31, and 19. Near timestamp 939, these bus IDs depart at the times marked D:\n",
    "\n",
    "    time   bus 7   bus 13  bus 59  bus 31  bus 19\n",
    "    929      .       .       .       .       .\n",
    "    930      .       .       .       D       .\n",
    "    931      D       .       .       .       D\n",
    "    932      .       .       .       .       .\n",
    "    933      .       .       .       .       .\n",
    "    934      .       .       .       .       .\n",
    "    935      .       .       .       .       .\n",
    "    936      .       D       .       .       .\n",
    "    937      .       .       .       .       .\n",
    "    938      D       .       .       .       .\n",
    "    939      .       .       .       .       .\n",
    "    940      .       .       .       .       .\n",
    "    941      .       .       .       .       .\n",
    "    942      .       .       .       .       .\n",
    "    943      .       .       .       .       .\n",
    "    944      .       .       D       .       .\n",
    "    945      D       .       .       .       .\n",
    "    946      .       .       .       .       .\n",
    "    947      .       .       .       .       .\n",
    "    948      .       .       .       .       .\n",
    "    949      .       D       .       .       .\n",
    "The earliest bus you could take is bus ID 59. It doesn't depart until timestamp 944, so you would need to wait 944 - 939 = 5 minutes before it departs. Multiplying the bus ID by the number of minutes you'd need to wait gives 295.\n",
    "\n",
    "What is the ID of the earliest bus you can take to the airport multiplied by the number of minutes you'll need to wait for that bus?\n",
    "\n",
    "Your puzzle answer was `246`.\n",
    "\n",
    "`--- Part Two ---`\n",
    "\n",
    "The shuttle company is running a contest: one gold coin for anyone that can find the earliest timestamp such that the first bus ID departs at that time and each subsequent listed bus ID departs at that subsequent minute. (The first line in your input is no longer relevant.)\n",
    "\n",
    "For example, suppose you have the same list of bus IDs as above:\n",
    "\n",
    "`7,13,x,x,59,x,31,19`\n",
    "\n",
    "An x in the schedule means there are no constraints on what bus IDs must depart at that time.\n",
    "\n",
    "This means you are looking for the earliest timestamp (called t) such that:\n",
    "\n",
    "- Bus ID 7 departs at timestamp t.\n",
    "- Bus ID 13 departs one minute after timestamp t.\n",
    "- - There are no requirements or restrictions on departures at two or three minutes after timestamp t.\n",
    "- Bus ID 59 departs four minutes after timestamp t.\n",
    "- There are no requirements or restrictions on departures at five minutes after timestamp t.\n",
    "- Bus ID 31 departs six minutes after timestamp t.\n",
    "- Bus ID 19 departs seven minutes after timestamp t.\n",
    "\n",
    "The only bus departures that matter are the listed bus IDs at their specific offsets from t. Those bus IDs can depart at other times, and other bus IDs can depart at those times. For example, in the list above, because bus ID 19 must depart seven minutes after the timestamp at which bus ID 7 departs, bus ID 7 will always also be departing with bus ID 19 at seven minutes after timestamp t.\n",
    "\n",
    "In this example, the earliest timestamp at which this occurs is 1068781:\n",
    "\n",
    "    time     bus 7   bus 13  bus 59  bus 31  bus 19\n",
    "    1068773    .       .       .       .       .\n",
    "    1068774    D       .       .       .       .\n",
    "    1068775    .       .       .       .       .\n",
    "    1068776    .       .       .       .       .\n",
    "    1068777    .       .       .       .       .\n",
    "    1068778    .       .       .       .       .\n",
    "    1068779    .       .       .       .       .\n",
    "    1068780    .       .       .       .       .\n",
    "    1068781    D       .       .       .       .\n",
    "    1068782    .       D       .       .       .\n",
    "    1068783    .       .       .       .       .\n",
    "    1068784    .       .       .       .       .\n",
    "    1068785    .       .       D       .       .\n",
    "    1068786    .       .       .       .       .\n",
    "    1068787    .       .       .       D       .\n",
    "    1068788    D       .       .       .       D\n",
    "    1068789    .       .       .       .       .\n",
    "    1068790    .       .       .       .       .\n",
    "    1068791    .       .       .       .       .\n",
    "    1068792    .       .       .       .       .\n",
    "    1068793    .       .       .       .       .\n",
    "    1068794    .       .       .       .       .\n",
    "    1068795    D       D       .       .       .\n",
    "    1068796    .       .       .       .       .\n",
    "    1068797    .       .       .       .       .\n",
    "In the above example, bus ID 7 departs at timestamp 1068788 (seven minutes after t). This is fine; the only requirement on that minute is that bus ID 19 departs then, and it does.\n",
    "\n",
    "Here are some other examples:\n",
    "\n",
    "- The earliest timestamp that matches the list 17,x,13,19 is 3417.\n",
    "- 67,7,59,61 first occurs at timestamp 754018.\n",
    "- 67,x,7,59,61 first occurs at timestamp 779210.\n",
    "- 67,7,x,59,61 first occurs at timestamp 1261476.\n",
    "- 1789,37,47,1889 first occurs at timestamp 1202161486.\n",
    "\n",
    "However, with so many bus IDs in your list, surely the actual earliest timestamp will be larger than 100000000000000!\n",
    "\n",
    "What is the earliest timestamp such that all of the listed bus IDs depart at offsets matching their positions in the list?"
   ]
  },
  {
   "cell_type": "code",
   "execution_count": 5,
   "metadata": {},
   "outputs": [],
   "source": [
    "data = '''1000066\n",
    "13,x,x,41,x,x,x,37,x,x,x,x,x,659,x,x,x,x,x,x,x,x,x,x,x,x,x,x,x,x,x,x,19,x,x,x,23,x,x,x,x,x,29,x,409,x,x,x,x,x,x,x,x,x,x,x,x,x,x,x,x,17'''\n",
    "\n",
    "def check_time(t,blist):\n",
    "    for x,i in blist:\n",
    "        if (t+i)%x != 0:\n",
    "            return False\n",
    "    return True\n",
    "\n",
    "def check_time_desc(t,blist):\n",
    "    for x,i in blist:\n",
    "        if (t+i)%x != 0:\n",
    "            print(f'Fail: {t} + {i} % {x} = {(t+i)%x}')\n",
    "        else:\n",
    "            print(f'Success: {t} + {i} % {x} = {(t+i)%x}')\n",
    "    return True"
   ]
  },
  {
   "cell_type": "code",
   "execution_count": 11,
   "metadata": {},
   "outputs": [],
   "source": [
    "def day13():\n",
    "    time,buses = data.split()\n",
    "    time = int(time)\n",
    "    # bus_dict = {int(x):-1 for x in buses.split(',') if x!='x'}\n",
    "    bus_list = [int(x) for x in buses.split(',') if x!='x']\n",
    "    time_dict = {}\n",
    "    for x in bus_list:\n",
    "        md = time%x\n",
    "        if md > 0:\n",
    "            next_bus = int(time/x)*(x)+x\n",
    "        else:\n",
    "            next_bus = 0\n",
    "        time_dict[next_bus] = x\n",
    "    mintime = min(time_dict.keys())\n",
    "    part1 = time_dict[mintime] *(mintime- time)\n",
    "    \n",
    "    bus_list2 = [[int(x),i] for i,x in enumerate(buses.split(',')) if x!='x']\n",
    "    bus_list3 = [[int(x),i%int(x)] for i,x in enumerate(buses.split(',')) if x!='x']\n",
    "    lx = max(bus_list2)\n",
    "    t = lx[0]\n",
    "    while True:\n",
    "        if t> 10000000000:\n",
    "            print('part2 too long :(')\n",
    "            break\n",
    "        if not check_time(t,bus_list3):\n",
    "            t+=lx[0]\n",
    "        else:\n",
    "            break\n",
    "    part2 = t\n",
    "    return part1, part2"
   ]
  },
  {
   "cell_type": "code",
   "execution_count": 10,
   "metadata": {},
   "outputs": [
    {
     "name": "stdout",
     "output_type": "stream",
     "text": [
      "too long :(\n",
      "Part 1 Answer = 246\n",
      "Part 2 Answer = 10000000113 - WRONG!\n"
     ]
    }
   ],
   "source": [
    "# Display Results\n",
    "part1,part2 = day13()\n",
    "print(f'Part 1 Answer = {part1}')\n",
    "print(f'Part 2 Answer = {part2} - WRONG!')"
   ]
  },
  {
   "cell_type": "code",
   "execution_count": 147,
   "metadata": {},
   "outputs": [],
   "source": [
    "# Speed Test\n",
    "%timeit day13()"
   ]
  },
  {
   "cell_type": "code",
   "execution_count": 191,
   "metadata": {},
   "outputs": [],
   "source": []
  },
  {
   "cell_type": "code",
   "execution_count": 214,
   "metadata": {},
   "outputs": [
    {
     "name": "stderr",
     "output_type": "stream",
     "text": [
      "<ipython-input-214-ab86c275c40e>:15: RuntimeWarning: overflow encountered in long_scalars\n",
      "  i+=int(lcm)\n"
     ]
    },
    {
     "ename": "KeyboardInterrupt",
     "evalue": "",
     "output_type": "error",
     "traceback": [
      "\u001b[1;31m---------------------------------------------------------------------------\u001b[0m",
      "\u001b[1;31mKeyboardInterrupt\u001b[0m                         Traceback (most recent call last)",
      "\u001b[1;32m<ipython-input-214-ab86c275c40e>\u001b[0m in \u001b[0;36m<module>\u001b[1;34m\u001b[0m\n\u001b[0;32m     13\u001b[0m             \u001b[0mtime\u001b[0m \u001b[1;33m=\u001b[0m \u001b[0mi\u001b[0m\u001b[1;33m-\u001b[0m\u001b[1;36m13\u001b[0m\u001b[1;33m\u001b[0m\u001b[1;33m\u001b[0m\u001b[0m\n\u001b[0;32m     14\u001b[0m             \u001b[1;32mbreak\u001b[0m\u001b[1;33m\u001b[0m\u001b[1;33m\u001b[0m\u001b[0m\n\u001b[1;32m---> 15\u001b[1;33m     \u001b[0mi\u001b[0m\u001b[1;33m+=\u001b[0m\u001b[0mint\u001b[0m\u001b[1;33m(\u001b[0m\u001b[0mlcm\u001b[0m\u001b[1;33m)\u001b[0m\u001b[1;33m\u001b[0m\u001b[1;33m\u001b[0m\u001b[0m\n\u001b[0m",
      "\u001b[1;31mKeyboardInterrupt\u001b[0m: "
     ]
    }
   ],
   "source": [
    "def check_time(t,blist):\n",
    "    for x,i in blist:\n",
    "        if (t+i)%x != 0:\n",
    "            return False\n",
    "    return True\n",
    "\n",
    "time=0\n",
    "lcm = np.lcm(659, 13)\n",
    "i=lcm\n",
    "while True:\n",
    "    if i%13==0:\n",
    "        if check_time(i-13, bus_list3):\n",
    "            time = i-13\n",
    "            break\n",
    "    i+=int(lcm)"
   ]
  },
  {
   "cell_type": "code",
   "execution_count": 183,
   "metadata": {},
   "outputs": [
    {
     "data": {
      "text/plain": [
       "[[13, 0],\n",
       " [41, 3],\n",
       " [37, 7],\n",
       " [659, 13],\n",
       " [19, 32],\n",
       " [23, 36],\n",
       " [29, 42],\n",
       " [409, 44],\n",
       " [17, 61]]"
      ]
     },
     "execution_count": 183,
     "metadata": {},
     "output_type": "execute_result"
    }
   ],
   "source": [
    "bus_list2"
   ]
  },
  {
   "cell_type": "code",
   "execution_count": 212,
   "metadata": {},
   "outputs": [
    {
     "data": {
      "text/plain": [
       "[[13, 0],\n",
       " [41, 3],\n",
       " [37, 7],\n",
       " [659, 13],\n",
       " [19, 13],\n",
       " [23, 13],\n",
       " [29, 13],\n",
       " [409, 44],\n",
       " [17, 10]]"
      ]
     },
     "execution_count": 212,
     "metadata": {},
     "output_type": "execute_result"
    }
   ],
   "source": [
    "bus_list3"
   ]
  },
  {
   "cell_type": "code",
   "execution_count": 186,
   "metadata": {},
   "outputs": [
    {
     "data": {
      "text/plain": [
       "8567"
      ]
     },
     "execution_count": 186,
     "metadata": {},
     "output_type": "execute_result"
    }
   ],
   "source": [
    "np.lcm(659,13)"
   ]
  },
  {
   "cell_type": "code",
   "execution_count": 187,
   "metadata": {},
   "outputs": [
    {
     "data": {
      "text/plain": [
       "154171732"
      ]
     },
     "execution_count": 187,
     "metadata": {},
     "output_type": "execute_result"
    }
   ],
   "source": [
    "np.lcm(17996,8567)"
   ]
  },
  {
   "cell_type": "code",
   "execution_count": 209,
   "metadata": {},
   "outputs": [
    {
     "name": "stdout",
     "output_type": "stream",
     "text": [
      "Success: 462515196 + 0 % 13 = 0\n",
      "Fail: 462515196 + 3 % 41 = 21\n",
      "Fail: 462515196 + 7 % 37 = 33\n",
      "Fail: 462515196 + 13 % 659 = 13\n",
      "Fail: 462515196 + 32 % 19 = 14\n",
      "Fail: 462515196 + 36 % 23 = 21\n",
      "Fail: 462515196 + 42 % 29 = 9\n",
      "Fail: 462515196 + 44 % 409 = 44\n",
      "Fail: 462515196 + 61 % 17 = 14\n"
     ]
    },
    {
     "data": {
      "text/plain": [
       "True"
      ]
     },
     "execution_count": 209,
     "metadata": {},
     "output_type": "execute_result"
    }
   ],
   "source": [
    "check_time_desc(154171732*3, bus_list2)"
   ]
  }
 ],
 "metadata": {
  "kernelspec": {
   "display_name": "Python 3",
   "language": "python",
   "name": "python3"
  },
  "language_info": {
   "codemirror_mode": {
    "name": "ipython",
    "version": 3
   },
   "file_extension": ".py",
   "mimetype": "text/x-python",
   "name": "python",
   "nbconvert_exporter": "python",
   "pygments_lexer": "ipython3",
   "version": "3.8.5"
  }
 },
 "nbformat": 4,
 "nbformat_minor": 4
}
