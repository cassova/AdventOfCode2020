{
 "cells": [
  {
   "cell_type": "markdown",
   "metadata": {},
   "source": [
    "## Day 1\n",
    "    \n",
    "[--- Day 1: Report Repair ---](https://adventofcode.com/2020/day/1)\n",
    "\n",
    "After saving Christmas five years in a row, you've decided to take a vacation at a nice resort on a tropical island. Surely, Christmas will go on without you.\n",
    "\n",
    "The tropical island has its own currency and is entirely cash-only. The gold coins used there have a little picture of a starfish; the locals just call them stars. None of the currency exchanges seem to have heard of them, but somehow, you'll need to find fifty of these coins by the time you arrive so you can pay the deposit on your room.\n",
    "\n",
    "To save your vacation, you need to get all fifty stars by December 25th.\n",
    "\n",
    "Collect stars by solving puzzles. Two puzzles will be made available on each day in the Advent calendar; the second puzzle is unlocked when you complete the first. Each puzzle grants one star. Good luck!\n",
    "\n",
    "Before you leave, the Elves in accounting just need you to fix your expense report (your puzzle input); apparently, something isn't quite adding up.\n",
    "\n",
    "Specifically, they need you to find the two entries that sum to 2020 and then multiply those two numbers together.\n",
    "\n",
    "For example, suppose your expense report contained the following:\n",
    "\n",
    "    1721\n",
    "    979\n",
    "    366\n",
    "    299\n",
    "    675\n",
    "    1456\n",
    "    \n",
    "In this list, the two entries that sum to 2020 are 1721 and 299. Multiplying them together produces `1721 * 299 = 514579`, so the correct answer is `514579`.\n",
    "\n",
    "Of course, your expense report is much larger. Find the two entries that sum to 2020; what do you get if you multiply them together?\n",
    "\n",
    "Your puzzle answer was `542619`.\n",
    "\n",
    "`--- Part Two ---`\n",
    "\n",
    "The Elves in accounting are thankful for your help; one of them even offers you a starfish coin they had left over from a past vacation. They offer you a second one if you can find three numbers in your expense report that meet the same criteria.\n",
    "\n",
    "Using the above example again, the three entries that sum to 2020 are 979, 366, and 675. Multiplying them together produces the answer, `241861950`.\n",
    "\n",
    "In your expense report, what is the product of the three entries that sum to 2020?\n",
    "\n",
    "Your puzzle answer was `32858450`."
   ]
  },
  {
   "cell_type": "code",
   "execution_count": 1,
   "metadata": {},
   "outputs": [],
   "source": [
    "import itertools\n",
    "\n",
    "day1_input = [1899, 1358, 1824, 1541, 1801, 1950, 1441, 1848, 1259, 1715, 1222, 1097, 1127, 1531, 1330, 1841, 1662, 1075,\n",
    "              1631, 1844, 1209, 1940, 2006, 1085, 1615, 1132, 1345, 1736, 1885, 1919, 1995, 1893, 1464, 1701, 1373, 1390,\n",
    "              1717, 1238, 1707, 1088, 1566, 1971, 1804, 1630, 1920, 1445, 1948, 1123, 1917, 1944, 1448, 1965, 1118, 1986,\n",
    "              1498, 1847, 1730, 1418, 1771, 1352, 1207, 1276, 1716, 1502, 1922, 1473, 1528, 1038, 1228, 1983, 1746, 1695,\n",
    "              1698, 1910, 1283, 1145, 1967, 1304, 1651, 1898, 1450, 1042, 1051, 1619, 1505, 1643, 1136, 1517, 1907, 1354,\n",
    "              1960, 1733, 1769, 1942, 43, 1743, 1981, 1711, 1141, 1169, 1239, 1032, 1148, 1045, 1768, 1173, 1389, 2007,\n",
    "              1614, 1028, 1729, 1083, 1165, 1461, 1850, 1913, 1958, 1121, 1613, 1341, 1055, 1510, 1054, 1064, 1875, 1429,\n",
    "              1799, 1570, 1293, 1702, 1313, 1576, 1050, 1340, 1117, 1342, 1914, 1773, 1281, 1176, 1371, 1520, 1131, 1438,\n",
    "              1741, 1583, 1840, 1412, 1792, 1656, 1628, 1089, 1124, 1291, 1476, 1367, 1467, 1529, 1925, 1555, 1518, 1496,\n",
    "              1745, 1533, 1557, 1861, 1091, 1364, 1894, 1760, 1622, 1149, 1776, 1547, 1329, 1988, 1697, 989, 1604, 1296,\n",
    "              319, 1459, 1860, 1916, 1838, 527, 1370, 1881, 1213, 2003, 1223, 1095, 1560, 1784, 1157, 1573, 1023, 1758,\n",
    "              1857, 1723]"
   ]
  },
  {
   "cell_type": "code",
   "execution_count": 2,
   "metadata": {},
   "outputs": [],
   "source": [
    "def day1():\n",
    "    part1,part2 = 0,0\n",
    "    \n",
    "    look_for = [(x,2020 - x) for x in sorted(day1_input)[:4]]\n",
    "    for x,y in look_for:\n",
    "        if y in day1_input:\n",
    "            part1 = [x*y,dict(x=x,y=y)]\n",
    "            break\n",
    "\n",
    "    # Part 2\n",
    "\n",
    "    lim = sorted(day1_input)[:4]\n",
    "    cand = [x for x in itertools.combinations(lim,2)]\n",
    "    look_for = [(x,y,(2020-x-y)) for x,y in cand]\n",
    "\n",
    "    for x,y,z in look_for:\n",
    "        if z in day1_input:\n",
    "            part2 = [x*y*z,dict(x=x,y=y,z=z)]\n",
    "            break\n",
    "            \n",
    "    return part1,part2"
   ]
  },
  {
   "cell_type": "code",
   "execution_count": 3,
   "metadata": {},
   "outputs": [],
   "source": [
    "# Display Results\n",
    "part1,part2 = day1()\n",
    "print(f'Part 1 Answer = {part1}')\n",
    "print(f'Part 2 Answer = {part2}')"
   ]
  },
  {
   "cell_type": "code",
   "execution_count": 4,
   "metadata": {},
   "outputs": [
    {
     "name": "stdout",
     "output_type": "stream",
     "text": [
      "19.1 µs ± 58.9 ns per loop (mean ± std. dev. of 7 runs, 100000 loops each)\n"
     ]
    }
   ],
   "source": [
    "# Speed Test\n",
    "%timeit day1()"
   ]
  }
 ],
 "metadata": {
  "kernelspec": {
   "display_name": "Python 3",
   "language": "python",
   "name": "python3"
  },
  "language_info": {
   "codemirror_mode": {
    "name": "ipython",
    "version": 3
   },
   "file_extension": ".py",
   "mimetype": "text/x-python",
   "name": "python",
   "nbconvert_exporter": "python",
   "pygments_lexer": "ipython3",
   "version": "3.7.6"
  }
 },
 "nbformat": 4,
 "nbformat_minor": 2
}
